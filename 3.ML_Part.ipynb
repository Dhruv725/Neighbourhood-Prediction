{
 "cells": [
  {
   "cell_type": "markdown",
   "id": "82eaba9a",
   "metadata": {},
   "source": [
    "### Importing libraries"
   ]
  },
  {
   "cell_type": "code",
   "execution_count": 1,
   "id": "085a4755",
   "metadata": {},
   "outputs": [],
   "source": [
    "import pandas as pd"
   ]
  },
  {
   "cell_type": "code",
   "execution_count": 2,
   "id": "10363c1e",
   "metadata": {},
   "outputs": [],
   "source": [
    "import numpy as np"
   ]
  },
  {
   "cell_type": "code",
   "execution_count": 3,
   "id": "45cd6419",
   "metadata": {},
   "outputs": [],
   "source": [
    "import seaborn as sns"
   ]
  },
  {
   "cell_type": "code",
   "execution_count": 4,
   "id": "97ce7e74",
   "metadata": {},
   "outputs": [],
   "source": [
    "import matplotlib.pyplot as plt"
   ]
  },
  {
   "cell_type": "markdown",
   "id": "3153d5c0",
   "metadata": {},
   "source": [
    "### Importing data set"
   ]
  },
  {
   "cell_type": "code",
   "execution_count": 5,
   "id": "7c105bb3",
   "metadata": {},
   "outputs": [],
   "source": [
    "df = pd.read_csv(\"data.csv\")"
   ]
  },
  {
   "cell_type": "code",
   "execution_count": 6,
   "id": "3caa9cd3",
   "metadata": {},
   "outputs": [
    {
     "data": {
      "text/html": [
       "<div>\n",
       "<style scoped>\n",
       "    .dataframe tbody tr th:only-of-type {\n",
       "        vertical-align: middle;\n",
       "    }\n",
       "\n",
       "    .dataframe tbody tr th {\n",
       "        vertical-align: top;\n",
       "    }\n",
       "\n",
       "    .dataframe thead th {\n",
       "        text-align: right;\n",
       "    }\n",
       "</style>\n",
       "<table border=\"1\" class=\"dataframe\">\n",
       "  <thead>\n",
       "    <tr style=\"text-align: right;\">\n",
       "      <th></th>\n",
       "      <th>Place Name</th>\n",
       "      <th>Category</th>\n",
       "      <th>PostalCode</th>\n",
       "      <th>Borough</th>\n",
       "      <th>Neighborhood</th>\n",
       "      <th>Latitude</th>\n",
       "      <th>Longitude</th>\n",
       "      <th>HousingPrice</th>\n",
       "    </tr>\n",
       "  </thead>\n",
       "  <tbody>\n",
       "    <tr>\n",
       "      <th>0</th>\n",
       "      <td>Elgin &amp; Winter Garden Theatre Ctr</td>\n",
       "      <td>Music Venue</td>\n",
       "      <td>M5B</td>\n",
       "      <td>Downtown Toronto</td>\n",
       "      <td>Garden District, Ryerson</td>\n",
       "      <td>43.657162</td>\n",
       "      <td>-79.378937</td>\n",
       "      <td>2200</td>\n",
       "    </tr>\n",
       "    <tr>\n",
       "      <th>1</th>\n",
       "      <td>Carville Mill Park</td>\n",
       "      <td>Park</td>\n",
       "      <td>M5B</td>\n",
       "      <td>Downtown Toronto</td>\n",
       "      <td>Garden District, Ryerson</td>\n",
       "      <td>43.657162</td>\n",
       "      <td>-79.378937</td>\n",
       "      <td>2200</td>\n",
       "    </tr>\n",
       "    <tr>\n",
       "      <th>2</th>\n",
       "      <td>Hina's Beauty Care</td>\n",
       "      <td>Hair Salon</td>\n",
       "      <td>M5B</td>\n",
       "      <td>Downtown Toronto</td>\n",
       "      <td>Garden District, Ryerson</td>\n",
       "      <td>43.657162</td>\n",
       "      <td>-79.378937</td>\n",
       "      <td>2200</td>\n",
       "    </tr>\n",
       "    <tr>\n",
       "      <th>3</th>\n",
       "      <td>Richmond Station</td>\n",
       "      <td>American Restaurant</td>\n",
       "      <td>M5H</td>\n",
       "      <td>Downtown Toronto</td>\n",
       "      <td>Richmond, Adelaide, King</td>\n",
       "      <td>43.650571</td>\n",
       "      <td>-79.384568</td>\n",
       "      <td>2200</td>\n",
       "    </tr>\n",
       "    <tr>\n",
       "      <th>4</th>\n",
       "      <td>Cactus Club Cafe</td>\n",
       "      <td>American Restaurant</td>\n",
       "      <td>M5H</td>\n",
       "      <td>Downtown Toronto</td>\n",
       "      <td>Richmond, Adelaide, King</td>\n",
       "      <td>43.650571</td>\n",
       "      <td>-79.384568</td>\n",
       "      <td>2200</td>\n",
       "    </tr>\n",
       "  </tbody>\n",
       "</table>\n",
       "</div>"
      ],
      "text/plain": [
       "                          Place Name             Category PostalCode  \\\n",
       "0  Elgin & Winter Garden Theatre Ctr          Music Venue        M5B   \n",
       "1                 Carville Mill Park                 Park        M5B   \n",
       "2                 Hina's Beauty Care           Hair Salon        M5B   \n",
       "3                   Richmond Station  American Restaurant        M5H   \n",
       "4                   Cactus Club Cafe  American Restaurant        M5H   \n",
       "\n",
       "            Borough              Neighborhood   Latitude  Longitude  \\\n",
       "0  Downtown Toronto  Garden District, Ryerson  43.657162 -79.378937   \n",
       "1  Downtown Toronto  Garden District, Ryerson  43.657162 -79.378937   \n",
       "2  Downtown Toronto  Garden District, Ryerson  43.657162 -79.378937   \n",
       "3  Downtown Toronto  Richmond, Adelaide, King  43.650571 -79.384568   \n",
       "4  Downtown Toronto  Richmond, Adelaide, King  43.650571 -79.384568   \n",
       "\n",
       "   HousingPrice  \n",
       "0          2200  \n",
       "1          2200  \n",
       "2          2200  \n",
       "3          2200  \n",
       "4          2200  "
      ]
     },
     "execution_count": 6,
     "metadata": {},
     "output_type": "execute_result"
    }
   ],
   "source": [
    "df.head()"
   ]
  },
  {
   "cell_type": "code",
   "execution_count": 7,
   "id": "63907507",
   "metadata": {},
   "outputs": [
    {
     "data": {
      "text/plain": [
       "(1242, 8)"
      ]
     },
     "execution_count": 7,
     "metadata": {},
     "output_type": "execute_result"
    }
   ],
   "source": [
    "df.shape"
   ]
  },
  {
   "cell_type": "markdown",
   "id": "97f7e362",
   "metadata": {},
   "source": [
    "### Performing label encoding to convert categorical values into numerical values"
   ]
  },
  {
   "cell_type": "code",
   "execution_count": 8,
   "id": "42bcd18b",
   "metadata": {},
   "outputs": [],
   "source": [
    "from sklearn.preprocessing import LabelEncoder"
   ]
  },
  {
   "cell_type": "code",
   "execution_count": 9,
   "id": "c769af92",
   "metadata": {},
   "outputs": [],
   "source": [
    "labelencoder = LabelEncoder()"
   ]
  },
  {
   "cell_type": "code",
   "execution_count": 10,
   "id": "3549a2df",
   "metadata": {},
   "outputs": [],
   "source": [
    "df['Category_num'] = labelencoder.fit_transform(df['Category'])"
   ]
  },
  {
   "cell_type": "code",
   "execution_count": 11,
   "id": "afc198ab",
   "metadata": {},
   "outputs": [],
   "source": [
    "df['PostalCode_num'] = labelencoder.fit_transform(df['PostalCode'])"
   ]
  },
  {
   "cell_type": "code",
   "execution_count": 12,
   "id": "1ba810e9",
   "metadata": {},
   "outputs": [],
   "source": [
    "df['Borough_num'] = labelencoder.fit_transform(df['Borough'])"
   ]
  },
  {
   "cell_type": "code",
   "execution_count": 13,
   "id": "309daa10",
   "metadata": {},
   "outputs": [],
   "source": [
    "df['Neighborhood_num'] = labelencoder.fit_transform(df['Neighborhood'])"
   ]
  },
  {
   "cell_type": "code",
   "execution_count": 14,
   "id": "aa60c999",
   "metadata": {},
   "outputs": [],
   "source": [
    "df['Place Name_num'] = labelencoder.fit_transform(df['Place Name'])"
   ]
  },
  {
   "cell_type": "code",
   "execution_count": 15,
   "id": "35668fa2",
   "metadata": {},
   "outputs": [
    {
     "data": {
      "text/html": [
       "<div>\n",
       "<style scoped>\n",
       "    .dataframe tbody tr th:only-of-type {\n",
       "        vertical-align: middle;\n",
       "    }\n",
       "\n",
       "    .dataframe tbody tr th {\n",
       "        vertical-align: top;\n",
       "    }\n",
       "\n",
       "    .dataframe thead th {\n",
       "        text-align: right;\n",
       "    }\n",
       "</style>\n",
       "<table border=\"1\" class=\"dataframe\">\n",
       "  <thead>\n",
       "    <tr style=\"text-align: right;\">\n",
       "      <th></th>\n",
       "      <th>Place Name</th>\n",
       "      <th>Category</th>\n",
       "      <th>PostalCode</th>\n",
       "      <th>Borough</th>\n",
       "      <th>Neighborhood</th>\n",
       "      <th>Latitude</th>\n",
       "      <th>Longitude</th>\n",
       "      <th>HousingPrice</th>\n",
       "      <th>Category_num</th>\n",
       "      <th>PostalCode_num</th>\n",
       "      <th>Borough_num</th>\n",
       "      <th>Neighborhood_num</th>\n",
       "      <th>Place Name_num</th>\n",
       "    </tr>\n",
       "  </thead>\n",
       "  <tbody>\n",
       "    <tr>\n",
       "      <th>0</th>\n",
       "      <td>Elgin &amp; Winter Garden Theatre Ctr</td>\n",
       "      <td>Music Venue</td>\n",
       "      <td>M5B</td>\n",
       "      <td>Downtown Toronto</td>\n",
       "      <td>Garden District, Ryerson</td>\n",
       "      <td>43.657162</td>\n",
       "      <td>-79.378937</td>\n",
       "      <td>2200</td>\n",
       "      <td>182</td>\n",
       "      <td>54</td>\n",
       "      <td>1</td>\n",
       "      <td>34</td>\n",
       "      <td>346</td>\n",
       "    </tr>\n",
       "    <tr>\n",
       "      <th>1</th>\n",
       "      <td>Carville Mill Park</td>\n",
       "      <td>Park</td>\n",
       "      <td>M5B</td>\n",
       "      <td>Downtown Toronto</td>\n",
       "      <td>Garden District, Ryerson</td>\n",
       "      <td>43.657162</td>\n",
       "      <td>-79.378937</td>\n",
       "      <td>2200</td>\n",
       "      <td>194</td>\n",
       "      <td>54</td>\n",
       "      <td>1</td>\n",
       "      <td>34</td>\n",
       "      <td>195</td>\n",
       "    </tr>\n",
       "    <tr>\n",
       "      <th>2</th>\n",
       "      <td>Hina's Beauty Care</td>\n",
       "      <td>Hair Salon</td>\n",
       "      <td>M5B</td>\n",
       "      <td>Downtown Toronto</td>\n",
       "      <td>Garden District, Ryerson</td>\n",
       "      <td>43.657162</td>\n",
       "      <td>-79.378937</td>\n",
       "      <td>2200</td>\n",
       "      <td>129</td>\n",
       "      <td>54</td>\n",
       "      <td>1</td>\n",
       "      <td>34</td>\n",
       "      <td>500</td>\n",
       "    </tr>\n",
       "    <tr>\n",
       "      <th>3</th>\n",
       "      <td>Richmond Station</td>\n",
       "      <td>American Restaurant</td>\n",
       "      <td>M5H</td>\n",
       "      <td>Downtown Toronto</td>\n",
       "      <td>Richmond, Adelaide, King</td>\n",
       "      <td>43.650571</td>\n",
       "      <td>-79.384568</td>\n",
       "      <td>2200</td>\n",
       "      <td>3</td>\n",
       "      <td>58</td>\n",
       "      <td>1</td>\n",
       "      <td>67</td>\n",
       "      <td>898</td>\n",
       "    </tr>\n",
       "    <tr>\n",
       "      <th>4</th>\n",
       "      <td>Cactus Club Cafe</td>\n",
       "      <td>American Restaurant</td>\n",
       "      <td>M5H</td>\n",
       "      <td>Downtown Toronto</td>\n",
       "      <td>Richmond, Adelaide, King</td>\n",
       "      <td>43.650571</td>\n",
       "      <td>-79.384568</td>\n",
       "      <td>2200</td>\n",
       "      <td>3</td>\n",
       "      <td>58</td>\n",
       "      <td>1</td>\n",
       "      <td>67</td>\n",
       "      <td>173</td>\n",
       "    </tr>\n",
       "  </tbody>\n",
       "</table>\n",
       "</div>"
      ],
      "text/plain": [
       "                          Place Name             Category PostalCode  \\\n",
       "0  Elgin & Winter Garden Theatre Ctr          Music Venue        M5B   \n",
       "1                 Carville Mill Park                 Park        M5B   \n",
       "2                 Hina's Beauty Care           Hair Salon        M5B   \n",
       "3                   Richmond Station  American Restaurant        M5H   \n",
       "4                   Cactus Club Cafe  American Restaurant        M5H   \n",
       "\n",
       "            Borough              Neighborhood   Latitude  Longitude  \\\n",
       "0  Downtown Toronto  Garden District, Ryerson  43.657162 -79.378937   \n",
       "1  Downtown Toronto  Garden District, Ryerson  43.657162 -79.378937   \n",
       "2  Downtown Toronto  Garden District, Ryerson  43.657162 -79.378937   \n",
       "3  Downtown Toronto  Richmond, Adelaide, King  43.650571 -79.384568   \n",
       "4  Downtown Toronto  Richmond, Adelaide, King  43.650571 -79.384568   \n",
       "\n",
       "   HousingPrice  Category_num  PostalCode_num  Borough_num  Neighborhood_num  \\\n",
       "0          2200           182              54            1                34   \n",
       "1          2200           194              54            1                34   \n",
       "2          2200           129              54            1                34   \n",
       "3          2200             3              58            1                67   \n",
       "4          2200             3              58            1                67   \n",
       "\n",
       "   Place Name_num  \n",
       "0             346  \n",
       "1             195  \n",
       "2             500  \n",
       "3             898  \n",
       "4             173  "
      ]
     },
     "execution_count": 15,
     "metadata": {},
     "output_type": "execute_result"
    }
   ],
   "source": [
    "df.head()"
   ]
  },
  {
   "cell_type": "code",
   "execution_count": 16,
   "id": "7f2e3a28",
   "metadata": {},
   "outputs": [],
   "source": [
    "X = df[['Place Name_num','Category_num','PostalCode_num','Borough_num','Neighborhood_num','Latitude','Longitude']]\n",
    "Y = df['HousingPrice']"
   ]
  },
  {
   "cell_type": "code",
   "execution_count": 17,
   "id": "2f3cd33b",
   "metadata": {},
   "outputs": [
    {
     "data": {
      "text/plain": [
       "(1242, 7)"
      ]
     },
     "execution_count": 17,
     "metadata": {},
     "output_type": "execute_result"
    }
   ],
   "source": [
    "X.head()\n",
    "X.shape"
   ]
  },
  {
   "cell_type": "code",
   "execution_count": 18,
   "id": "d13f376b",
   "metadata": {},
   "outputs": [],
   "source": [
    "from sklearn.preprocessing import StandardScaler\n",
    "from sklearn.model_selection import train_test_split"
   ]
  },
  {
   "cell_type": "markdown",
   "id": "de9a0b1b",
   "metadata": {},
   "source": [
    "### Standardizing ML model before fitting to avoid creating bias"
   ]
  },
  {
   "cell_type": "code",
   "execution_count": 19,
   "id": "4d62ced3",
   "metadata": {},
   "outputs": [],
   "source": [
    "X = StandardScaler().fit_transform(X)"
   ]
  },
  {
   "cell_type": "code",
   "execution_count": 20,
   "id": "3343f1e4",
   "metadata": {},
   "outputs": [],
   "source": [
    "X_Train, X_Test, Y_Train, Y_Test = train_test_split(X, Y, test_size = 0.3, random_state = 101)"
   ]
  },
  {
   "cell_type": "code",
   "execution_count": 21,
   "id": "60bc6bea",
   "metadata": {},
   "outputs": [
    {
     "data": {
      "text/plain": [
       "(869, 7)"
      ]
     },
     "execution_count": 21,
     "metadata": {},
     "output_type": "execute_result"
    }
   ],
   "source": [
    "X_Train.shape"
   ]
  },
  {
   "cell_type": "code",
   "execution_count": 22,
   "id": "cb2a99d5",
   "metadata": {},
   "outputs": [
    {
     "data": {
      "text/plain": [
       "13"
      ]
     },
     "execution_count": 22,
     "metadata": {},
     "output_type": "execute_result"
    }
   ],
   "source": [
    "df['HousingPrice'].nunique()"
   ]
  },
  {
   "cell_type": "markdown",
   "id": "8ac3fbea",
   "metadata": {},
   "source": [
    "### Explain what the task you’re solving is (e.g., supervised x unsupervised, classification x regression x clustering or similarity matching x, etc)\n",
    "\n",
    "We are dealing with supervised learning problems here. In supervised learning, models are trained to generate the desired outputs using a training set. The right inputs and outputs are present in this training dataset, allowing the model to improve over time. The algorithm's accuracy is evaluated using the loss function, and iterations are carried out until the error is sufficiently decreased.\n",
    "\n",
    "The issue is one of classification. Classification predictive modelling is the process of roughly calculating the mapping function from discrete input variables to output variables. The main goal is to identify the class or category to which the new data will belong. k-Nearest Neighbors, Decision Trees, Support Vector Machine, and logistic classification are some of the well-liked algorithms for resolving classification issues."
   ]
  },
  {
   "cell_type": "markdown",
   "id": "c309fb2a",
   "metadata": {},
   "source": [
    "### Use a feature selection method to select the features to build a model."
   ]
  },
  {
   "cell_type": "code",
   "execution_count": 23,
   "id": "ecf9f773",
   "metadata": {},
   "outputs": [],
   "source": [
    "from sklearn import svm"
   ]
  },
  {
   "cell_type": "code",
   "execution_count": 24,
   "id": "3db480d3",
   "metadata": {},
   "outputs": [],
   "source": [
    "svmRregression = svm.LinearSVR().fit(X_Train, Y_Train)"
   ]
  },
  {
   "cell_type": "code",
   "execution_count": 25,
   "id": "8eccd08d",
   "metadata": {},
   "outputs": [],
   "source": [
    "# https://www.kaggle.com/code/pierpaolo28/pima-indians-diabetes-database/notebook\n",
    "\n",
    "def feature_plot(classifier, feature_names, top_features=2):\n",
    " coef = classifier.coef_.ravel()\n",
    " top_positive_coefficients = np.argsort(coef)[-top_features:]\n",
    " top_negative_coefficients = np.argsort(coef)[:top_features]\n",
    " top_coefficients = np.hstack([top_negative_coefficients, top_positive_coefficients])\n",
    " plt.figure(figsize=(25, 7))\n",
    " colors = ['green' if c < 0 else 'blue' for c in coef[top_coefficients]]\n",
    " plt.bar(np.arange(2 * top_features), coef[top_coefficients], color=colors)\n",
    " feature_names = np.array(feature_names)\n",
    " plt.xticks(np.arange(2 * top_features), feature_names[top_coefficients], rotation=45, ha='right')\n",
    " plt.show()"
   ]
  },
  {
   "cell_type": "code",
   "execution_count": 26,
   "id": "8b466c83",
   "metadata": {},
   "outputs": [
    {
     "data": {
      "image/png": "[encoded data removed]",
      "text/plain": [
       "<Figure size 1800x504 with 1 Axes>"
      ]
     },
     "metadata": {
      "needs_background": "light"
     },
     "output_type": "display_data"
    }
   ],
   "source": [
    "feature_plot(svmRregression,['Place Name_num','Category_num','PostalCode_num','Borough_num','Neighborhood_num','Latitude','Longitude'])"
   ]
  },
  {
   "cell_type": "markdown",
   "id": "963dfc24",
   "metadata": {},
   "source": [
    "### Select one or more evaluation metrics. Justify your choice.\n",
    "\n",
    "Confusion metric is being used in this instance as an evaluation metric. It functions as a performance indicator for machine learning classification tasks when the output can include two or more classes. It is a table with combinations of actual and anticipated values."
   ]
  },
  {
   "cell_type": "markdown",
   "id": "9a894718",
   "metadata": {},
   "source": [
    "### Baseline model"
   ]
  },
  {
   "cell_type": "code",
   "execution_count": 27,
   "id": "2a279b16",
   "metadata": {},
   "outputs": [],
   "source": [
    "from sklearn.linear_model import LogisticRegression\n",
    "from sklearn.model_selection import KFold\n",
    "from sklearn.model_selection import cross_val_score\n",
    "from numpy import mean\n",
    "from numpy import absolute"
   ]
  },
  {
   "cell_type": "code",
   "execution_count": 28,
   "id": "29fa0ce0",
   "metadata": {},
   "outputs": [],
   "source": [
    "logisticRegr = LogisticRegression()"
   ]
  },
  {
   "cell_type": "code",
   "execution_count": 29,
   "id": "e85d5103",
   "metadata": {},
   "outputs": [
    {
     "data": {
      "text/html": [
       "<style>#sk-container-id-1 {color: black;background-color: white;}#sk-container-id-1 pre{padding: 0;}#sk-container-id-1 div.sk-toggleable {background-color: white;}#sk-container-id-1 label.sk-toggleable__label {cursor: pointer;display: block;width: 100%;margin-bottom: 0;padding: 0.3em;box-sizing: border-box;text-align: center;}#sk-container-id-1 label.sk-toggleable__label-arrow:before {content: \"▸\";float: left;margin-right: 0.25em;color: #696969;}#sk-container-id-1 label.sk-toggleable__label-arrow:hover:before {color: black;}#sk-container-id-1 div.sk-estimator:hover label.sk-toggleable__label-arrow:before {color: black;}#sk-container-id-1 div.sk-toggleable__content {max-height: 0;max-width: 0;overflow: hidden;text-align: left;background-color: #f0f8ff;}#sk-container-id-1 div.sk-toggleable__content pre {margin: 0.2em;color: black;border-radius: 0.25em;background-color: #f0f8ff;}#sk-container-id-1 input.sk-toggleable__control:checked~div.sk-toggleable__content {max-height: 200px;max-width: 100%;overflow: auto;}#sk-container-id-1 input.sk-toggleable__control:checked~label.sk-toggleable__label-arrow:before {content: \"▾\";}#sk-container-id-1 div.sk-estimator input.sk-toggleable__control:checked~label.sk-toggleable__label {background-color: #d4ebff;}#sk-container-id-1 div.sk-label input.sk-toggleable__control:checked~label.sk-toggleable__label {background-color: #d4ebff;}#sk-container-id-1 input.sk-hidden--visually {border: 0;clip: rect(1px 1px 1px 1px);clip: rect(1px, 1px, 1px, 1px);height: 1px;margin: -1px;overflow: hidden;padding: 0;position: absolute;width: 1px;}#sk-container-id-1 div.sk-estimator {font-family: monospace;background-color: #f0f8ff;border: 1px dotted black;border-radius: 0.25em;box-sizing: border-box;margin-bottom: 0.5em;}#sk-container-id-1 div.sk-estimator:hover {background-color: #d4ebff;}#sk-container-id-1 div.sk-parallel-item::after {content: \"\";width: 100%;border-bottom: 1px solid gray;flex-grow: 1;}#sk-container-id-1 div.sk-label:hover label.sk-toggleable__label {background-color: #d4ebff;}#sk-container-id-1 div.sk-serial::before {content: \"\";position: absolute;border-left: 1px solid gray;box-sizing: border-box;top: 0;bottom: 0;left: 50%;z-index: 0;}#sk-container-id-1 div.sk-serial {display: flex;flex-direction: column;align-items: center;background-color: white;padding-right: 0.2em;padding-left: 0.2em;position: relative;}#sk-container-id-1 div.sk-item {position: relative;z-index: 1;}#sk-container-id-1 div.sk-parallel {display: flex;align-items: stretch;justify-content: center;background-color: white;position: relative;}#sk-container-id-1 div.sk-item::before, #sk-container-id-1 div.sk-parallel-item::before {content: \"\";position: absolute;border-left: 1px solid gray;box-sizing: border-box;top: 0;bottom: 0;left: 50%;z-index: -1;}#sk-container-id-1 div.sk-parallel-item {display: flex;flex-direction: column;z-index: 1;position: relative;background-color: white;}#sk-container-id-1 div.sk-parallel-item:first-child::after {align-self: flex-end;width: 50%;}#sk-container-id-1 div.sk-parallel-item:last-child::after {align-self: flex-start;width: 50%;}#sk-container-id-1 div.sk-parallel-item:only-child::after {width: 0;}#sk-container-id-1 div.sk-dashed-wrapped {border: 1px dashed gray;margin: 0 0.4em 0.5em 0.4em;box-sizing: border-box;padding-bottom: 0.4em;background-color: white;}#sk-container-id-1 div.sk-label label {font-family: monospace;font-weight: bold;display: inline-block;line-height: 1.2em;}#sk-container-id-1 div.sk-label-container {text-align: center;}#sk-container-id-1 div.sk-container {/* jupyter's `normalize.less` sets `[hidden] { display: none; }` but bootstrap.min.css set `[hidden] { display: none !important; }` so we also need the `!important` here to be able to override the default hidden behavior on the sphinx rendered scikit-learn.org. See: https://github.com/scikit-learn/scikit-learn/issues/21755 */display: inline-block !important;position: relative;}#sk-container-id-1 div.sk-text-repr-fallback {display: none;}</style><div id=\"sk-container-id-1\" class=\"sk-top-container\"><div class=\"sk-text-repr-fallback\"><pre>LogisticRegression()</pre><b>In a Jupyter environment, please rerun this cell to show the HTML representation or trust the notebook. <br />On GitHub, the HTML representation is unable to render, please try loading this page with nbviewer.org.</b></div><div class=\"sk-container\" hidden><div class=\"sk-item\"><div class=\"sk-estimator sk-toggleable\"><input class=\"sk-toggleable__control sk-hidden--visually\" id=\"sk-estimator-id-1\" type=\"checkbox\" checked><label for=\"sk-estimator-id-1\" class=\"sk-toggleable__label sk-toggleable__label-arrow\">LogisticRegression</label><div class=\"sk-toggleable__content\"><pre>LogisticRegression()</pre></div></div></div></div></div>"
      ],
      "text/plain": [
       "LogisticRegression()"
      ]
     },
     "execution_count": 29,
     "metadata": {},
     "output_type": "execute_result"
    }
   ],
   "source": [
    "logisticRegr.fit(X_Train, Y_Train)"
   ]
  },
  {
   "cell_type": "code",
   "execution_count": 30,
   "id": "50b1ba81",
   "metadata": {},
   "outputs": [],
   "source": [
    "from sklearn import metrics"
   ]
  },
  {
   "cell_type": "code",
   "execution_count": 31,
   "id": "3a15e204",
   "metadata": {},
   "outputs": [],
   "source": [
    "prediction_test = logisticRegr.predict(X_Test)"
   ]
  },
  {
   "cell_type": "code",
   "execution_count": 32,
   "id": "0cec87cc",
   "metadata": {},
   "outputs": [],
   "source": [
    "from sklearn.metrics import confusion_matrix"
   ]
  },
  {
   "cell_type": "code",
   "execution_count": 33,
   "id": "5c818c10",
   "metadata": {},
   "outputs": [],
   "source": [
    "M_LR = confusion_matrix(Y_Test, prediction_test)"
   ]
  },
  {
   "cell_type": "code",
   "execution_count": 34,
   "id": "783eb69d",
   "metadata": {},
   "outputs": [
    {
     "name": "stdout",
     "output_type": "stream",
     "text": [
      "Model accucary on train data: 98.27 %\n"
     ]
    }
   ],
   "source": [
    "logistic_model_accuracy_train = round(logisticRegr.score(X_Train, Y_Train)*100,2)\n",
    "print('Model accucary on train data:', round(logistic_model_accuracy_train, 2) , '%')"
   ]
  },
  {
   "cell_type": "code",
   "execution_count": 35,
   "id": "c037f48b",
   "metadata": {},
   "outputs": [
    {
     "name": "stdout",
     "output_type": "stream",
     "text": [
      "Model accucary on train data: 97.59 %\n"
     ]
    }
   ],
   "source": [
    "logistic_model_accuracy_test = round(logisticRegr.score(X_Test, Y_Test)*100,2)\n",
    "print('Model accucary on train data:', round(logistic_model_accuracy_test, 2) , '%')"
   ]
  },
  {
   "cell_type": "markdown",
   "id": "d1c30506",
   "metadata": {},
   "source": [
    "### f. How do you make sure that your model is not overfitting the data?\n",
    "\n",
    "Cross validation result is approximately same as model. Therefore, the model is not overfitting to the dataset. "
   ]
  },
  {
   "cell_type": "code",
   "execution_count": 36,
   "id": "450bd48e",
   "metadata": {},
   "outputs": [],
   "source": [
    "import warnings\n",
    "warnings.filterwarnings('ignore')\n",
    "warnings.warn('DelftStack')\n",
    "warnings.warn('Do not show this message')"
   ]
  },
  {
   "cell_type": "code",
   "execution_count": 37,
   "id": "e649d1cb",
   "metadata": {},
   "outputs": [],
   "source": [
    "from sklearn.model_selection import cross_val_score"
   ]
  },
  {
   "cell_type": "code",
   "execution_count": 38,
   "id": "6a15b073",
   "metadata": {},
   "outputs": [],
   "source": [
    "from numpy import mean\n",
    "from numpy import std"
   ]
  },
  {
   "cell_type": "code",
   "execution_count": 39,
   "id": "e1a5843e",
   "metadata": {},
   "outputs": [
    {
     "name": "stdout",
     "output_type": "stream",
     "text": [
      "Accuracy: 0.980 (0.010)\n"
     ]
    }
   ],
   "source": [
    "LR_scores = cross_val_score(logisticRegr, X_Train, Y_Train, scoring='accuracy', cv=10,n_jobs=-1)\n",
    "print('Accuracy: %.3f (%.3f)' % (mean(LR_scores), std(LR_scores)))"
   ]
  },
  {
   "cell_type": "markdown",
   "id": "888ed1a2",
   "metadata": {},
   "source": [
    "### g. Plot the learning curve. What can you conclude from this plot?\n",
    "\n",
    "From the learning curves figure, initially, model's accuracy for the train model is around 94%. After that, it becomes stagnant at approximately 98%. Where as test set accuracy starts with 80% and then remained at around 97%."
   ]
  },
  {
   "cell_type": "code",
   "execution_count": 40,
   "id": "30a53b54",
   "metadata": {},
   "outputs": [],
   "source": [
    "from mlxtend.plotting import plot_learning_curves"
   ]
  },
  {
   "cell_type": "code",
   "execution_count": 41,
   "id": "3bc1928f",
   "metadata": {},
   "outputs": [
    {
     "data": {
      "text/plain": [
       "([0.9302325581395349,\n",
       "  0.930635838150289,\n",
       "  0.95,\n",
       "  0.962536023054755,\n",
       "  0.9654377880184332,\n",
       "  0.9731285988483686,\n",
       "  0.9819078947368421,\n",
       "  0.9841726618705036,\n",
       "  0.9833759590792839,\n",
       "  0.9827387802071347],\n",
       " [0.8042895442359249,\n",
       "  0.8739946380697051,\n",
       "  0.9115281501340483,\n",
       "  0.9463806970509383,\n",
       "  0.9490616621983914,\n",
       "  0.9463806970509383,\n",
       "  0.967828418230563,\n",
       "  0.9705093833780161,\n",
       "  0.9731903485254692,\n",
       "  0.9758713136729222])"
      ]
     },
     "execution_count": 41,
     "metadata": {},
     "output_type": "execute_result"
    },
    {
     "data": {
      "image/png": "[encoded data removed]",
      "text/plain": [
       "<Figure size 640x480 with 1 Axes>"
      ]
     },
     "metadata": {},
     "output_type": "display_data"
    }
   ],
   "source": [
    "plot_learning_curves(X_Train, Y_Train, X_Test, Y_Test, logisticRegr, scoring='accuracy')"
   ]
  },
  {
   "cell_type": "markdown",
   "id": "ecd9a8fd",
   "metadata": {},
   "source": [
    "### h. Analyze and discuss model performance.\n",
    "\n",
    "Logistic regression model gave the accuracy on the test data around 97%. The accuracy nearly the same on validation set, also."
   ]
  },
  {
   "cell_type": "markdown",
   "id": "6698ef25",
   "metadata": {},
   "source": [
    "### Multi-layer perceptron classifier to predict house rent."
   ]
  },
  {
   "cell_type": "code",
   "execution_count": 42,
   "id": "e9379fae",
   "metadata": {},
   "outputs": [],
   "source": [
    "from sklearn.neural_network import MLPClassifier"
   ]
  },
  {
   "cell_type": "code",
   "execution_count": 43,
   "id": "ced42d88",
   "metadata": {},
   "outputs": [],
   "source": [
    "from sklearn.model_selection import ShuffleSplit"
   ]
  },
  {
   "cell_type": "code",
   "execution_count": 44,
   "id": "7d7c485c",
   "metadata": {},
   "outputs": [],
   "source": [
    "from sklearn.model_selection import GridSearchCV"
   ]
  },
  {
   "cell_type": "markdown",
   "id": "9d45e419",
   "metadata": {},
   "source": [
    "### Performing hyperparameter tuning"
   ]
  },
  {
   "cell_type": "code",
   "execution_count": 45,
   "id": "46cc2ced",
   "metadata": {},
   "outputs": [],
   "source": [
    "param_grid = {\n",
    "    'hidden_layer_sizes': [50, 100],\n",
    "    'activation': ['identity','logistic','relu'],\n",
    "    'solver': ['adam'],\n",
    "    'learning_rate': ['constant','invscaling']\n",
    "}"
   ]
  },
  {
   "cell_type": "code",
   "execution_count": 46,
   "id": "b9948a73",
   "metadata": {},
   "outputs": [],
   "source": [
    "gridSearch = GridSearchCV(MLPClassifier(), param_grid, cv = 5, scoring='accuracy', verbose = 2)"
   ]
  },
  {
   "cell_type": "code",
   "execution_count": 47,
   "id": "ec09e550",
   "metadata": {},
   "outputs": [
    {
     "name": "stdout",
     "output_type": "stream",
     "text": [
      "Fitting 5 folds for each of 12 candidates, totalling 60 fits\n",
      "[CV] END activation=identity, hidden_layer_sizes=50, learning_rate=constant, solver=adam; total time=   0.3s\n",
      "[CV] END activation=identity, hidden_layer_sizes=50, learning_rate=constant, solver=adam; total time=   0.3s\n",
      "[CV] END activation=identity, hidden_layer_sizes=50, learning_rate=constant, solver=adam; total time=   0.2s\n",
      "[CV] END activation=identity, hidden_layer_sizes=50, learning_rate=constant, solver=adam; total time=   0.2s\n",
      "[CV] END activation=identity, hidden_layer_sizes=50, learning_rate=constant, solver=adam; total time=   0.2s\n",
      "[CV] END activation=identity, hidden_layer_sizes=50, learning_rate=invscaling, solver=adam; total time=   0.3s\n",
      "[CV] END activation=identity, hidden_layer_sizes=50, learning_rate=invscaling, solver=adam; total time=   0.2s\n",
      "[CV] END activation=identity, hidden_layer_sizes=50, learning_rate=invscaling, solver=adam; total time=   0.2s\n",
      "[CV] END activation=identity, hidden_layer_sizes=50, learning_rate=invscaling, solver=adam; total time=   0.2s\n",
      "[CV] END activation=identity, hidden_layer_sizes=50, learning_rate=invscaling, solver=adam; total time=   0.2s\n",
      "[CV] END activation=identity, hidden_layer_sizes=100, learning_rate=constant, solver=adam; total time=   0.3s\n",
      "[CV] END activation=identity, hidden_layer_sizes=100, learning_rate=constant, solver=adam; total time=   0.3s\n",
      "[CV] END activation=identity, hidden_layer_sizes=100, learning_rate=constant, solver=adam; total time=   0.3s\n",
      "[CV] END activation=identity, hidden_layer_sizes=100, learning_rate=constant, solver=adam; total time=   0.3s\n",
      "[CV] END activation=identity, hidden_layer_sizes=100, learning_rate=constant, solver=adam; total time=   0.3s\n",
      "[CV] END activation=identity, hidden_layer_sizes=100, learning_rate=invscaling, solver=adam; total time=   0.3s\n",
      "[CV] END activation=identity, hidden_layer_sizes=100, learning_rate=invscaling, solver=adam; total time=   0.3s\n",
      "[CV] END activation=identity, hidden_layer_sizes=100, learning_rate=invscaling, solver=adam; total time=   0.3s\n",
      "[CV] END activation=identity, hidden_layer_sizes=100, learning_rate=invscaling, solver=adam; total time=   0.3s\n",
      "[CV] END activation=identity, hidden_layer_sizes=100, learning_rate=invscaling, solver=adam; total time=   0.3s\n",
      "[CV] END activation=logistic, hidden_layer_sizes=50, learning_rate=constant, solver=adam; total time=   0.3s\n",
      "[CV] END activation=logistic, hidden_layer_sizes=50, learning_rate=constant, solver=adam; total time=   0.3s\n",
      "[CV] END activation=logistic, hidden_layer_sizes=50, learning_rate=constant, solver=adam; total time=   0.3s\n",
      "[CV] END activation=logistic, hidden_layer_sizes=50, learning_rate=constant, solver=adam; total time=   0.3s\n",
      "[CV] END activation=logistic, hidden_layer_sizes=50, learning_rate=constant, solver=adam; total time=   0.3s\n",
      "[CV] END activation=logistic, hidden_layer_sizes=50, learning_rate=invscaling, solver=adam; total time=   0.3s\n",
      "[CV] END activation=logistic, hidden_layer_sizes=50, learning_rate=invscaling, solver=adam; total time=   0.3s\n",
      "[CV] END activation=logistic, hidden_layer_sizes=50, learning_rate=invscaling, solver=adam; total time=   0.3s\n",
      "[CV] END activation=logistic, hidden_layer_sizes=50, learning_rate=invscaling, solver=adam; total time=   0.3s\n",
      "[CV] END activation=logistic, hidden_layer_sizes=50, learning_rate=invscaling, solver=adam; total time=   0.3s\n",
      "[CV] END activation=logistic, hidden_layer_sizes=100, learning_rate=constant, solver=adam; total time=   0.4s\n",
      "[CV] END activation=logistic, hidden_layer_sizes=100, learning_rate=constant, solver=adam; total time=   0.4s\n",
      "[CV] END activation=logistic, hidden_layer_sizes=100, learning_rate=constant, solver=adam; total time=   0.4s\n",
      "[CV] END activation=logistic, hidden_layer_sizes=100, learning_rate=constant, solver=adam; total time=   0.4s\n",
      "[CV] END activation=logistic, hidden_layer_sizes=100, learning_rate=constant, solver=adam; total time=   0.4s\n",
      "[CV] END activation=logistic, hidden_layer_sizes=100, learning_rate=invscaling, solver=adam; total time=   0.4s\n",
      "[CV] END activation=logistic, hidden_layer_sizes=100, learning_rate=invscaling, solver=adam; total time=   0.4s\n",
      "[CV] END activation=logistic, hidden_layer_sizes=100, learning_rate=invscaling, solver=adam; total time=   0.4s\n",
      "[CV] END activation=logistic, hidden_layer_sizes=100, learning_rate=invscaling, solver=adam; total time=   0.4s\n",
      "[CV] END activation=logistic, hidden_layer_sizes=100, learning_rate=invscaling, solver=adam; total time=   0.4s\n",
      "[CV] END activation=relu, hidden_layer_sizes=50, learning_rate=constant, solver=adam; total time=   0.3s\n",
      "[CV] END activation=relu, hidden_layer_sizes=50, learning_rate=constant, solver=adam; total time=   0.3s\n",
      "[CV] END activation=relu, hidden_layer_sizes=50, learning_rate=constant, solver=adam; total time=   0.3s\n",
      "[CV] END activation=relu, hidden_layer_sizes=50, learning_rate=constant, solver=adam; total time=   0.3s\n",
      "[CV] END activation=relu, hidden_layer_sizes=50, learning_rate=constant, solver=adam; total time=   0.3s\n",
      "[CV] END activation=relu, hidden_layer_sizes=50, learning_rate=invscaling, solver=adam; total time=   0.3s\n",
      "[CV] END activation=relu, hidden_layer_sizes=50, learning_rate=invscaling, solver=adam; total time=   0.3s\n",
      "[CV] END activation=relu, hidden_layer_sizes=50, learning_rate=invscaling, solver=adam; total time=   0.3s\n",
      "[CV] END activation=relu, hidden_layer_sizes=50, learning_rate=invscaling, solver=adam; total time=   0.3s\n",
      "[CV] END activation=relu, hidden_layer_sizes=50, learning_rate=invscaling, solver=adam; total time=   0.3s\n",
      "[CV] END activation=relu, hidden_layer_sizes=100, learning_rate=constant, solver=adam; total time=   0.4s\n",
      "[CV] END activation=relu, hidden_layer_sizes=100, learning_rate=constant, solver=adam; total time=   0.4s\n",
      "[CV] END activation=relu, hidden_layer_sizes=100, learning_rate=constant, solver=adam; total time=   0.4s\n",
      "[CV] END activation=relu, hidden_layer_sizes=100, learning_rate=constant, solver=adam; total time=   0.4s\n",
      "[CV] END activation=relu, hidden_layer_sizes=100, learning_rate=constant, solver=adam; total time=   0.4s\n",
      "[CV] END activation=relu, hidden_layer_sizes=100, learning_rate=invscaling, solver=adam; total time=   0.4s\n",
      "[CV] END activation=relu, hidden_layer_sizes=100, learning_rate=invscaling, solver=adam; total time=   0.4s\n",
      "[CV] END activation=relu, hidden_layer_sizes=100, learning_rate=invscaling, solver=adam; total time=   0.4s\n",
      "[CV] END activation=relu, hidden_layer_sizes=100, learning_rate=invscaling, solver=adam; total time=   0.4s\n",
      "[CV] END activation=relu, hidden_layer_sizes=100, learning_rate=invscaling, solver=adam; total time=   0.4s\n"
     ]
    }
   ],
   "source": [
    "gridSearch = gridSearch.fit(X_Train, Y_Train)"
   ]
  },
  {
   "cell_type": "code",
   "execution_count": 48,
   "id": "66d4cb89",
   "metadata": {},
   "outputs": [
    {
     "name": "stdout",
     "output_type": "stream",
     "text": [
      "Score:  0.9838947578234004\n"
     ]
    }
   ],
   "source": [
    "print('Score: ', gridSearch.best_score_)"
   ]
  },
  {
   "cell_type": "code",
   "execution_count": 49,
   "id": "2644e18b",
   "metadata": {},
   "outputs": [
    {
     "name": "stdout",
     "output_type": "stream",
     "text": [
      "Pamaters:  {'activation': 'identity', 'hidden_layer_sizes': 100, 'learning_rate': 'constant', 'solver': 'adam'}\n"
     ]
    }
   ],
   "source": [
    "print('Pamaters: ', gridSearch.best_params_)"
   ]
  },
  {
   "cell_type": "markdown",
   "id": "b765b4a3",
   "metadata": {},
   "source": [
    "###  Train and evaluate your model on test data."
   ]
  },
  {
   "cell_type": "code",
   "execution_count": 50,
   "id": "fff93af0",
   "metadata": {},
   "outputs": [],
   "source": [
    "mlp_model = MLPClassifier(hidden_layer_sizes= 100, activation = 'identity',solver= 'adam', learning_rate='constant')"
   ]
  },
  {
   "cell_type": "code",
   "execution_count": 51,
   "id": "5e17db3f",
   "metadata": {},
   "outputs": [
    {
     "data": {
      "text/html": [
       "<style>#sk-container-id-2 {color: black;background-color: white;}#sk-container-id-2 pre{padding: 0;}#sk-container-id-2 div.sk-toggleable {background-color: white;}#sk-container-id-2 label.sk-toggleable__label {cursor: pointer;display: block;width: 100%;margin-bottom: 0;padding: 0.3em;box-sizing: border-box;text-align: center;}#sk-container-id-2 label.sk-toggleable__label-arrow:before {content: \"▸\";float: left;margin-right: 0.25em;color: #696969;}#sk-container-id-2 label.sk-toggleable__label-arrow:hover:before {color: black;}#sk-container-id-2 div.sk-estimator:hover label.sk-toggleable__label-arrow:before {color: black;}#sk-container-id-2 div.sk-toggleable__content {max-height: 0;max-width: 0;overflow: hidden;text-align: left;background-color: #f0f8ff;}#sk-container-id-2 div.sk-toggleable__content pre {margin: 0.2em;color: black;border-radius: 0.25em;background-color: #f0f8ff;}#sk-container-id-2 input.sk-toggleable__control:checked~div.sk-toggleable__content {max-height: 200px;max-width: 100%;overflow: auto;}#sk-container-id-2 input.sk-toggleable__control:checked~label.sk-toggleable__label-arrow:before {content: \"▾\";}#sk-container-id-2 div.sk-estimator input.sk-toggleable__control:checked~label.sk-toggleable__label {background-color: #d4ebff;}#sk-container-id-2 div.sk-label input.sk-toggleable__control:checked~label.sk-toggleable__label {background-color: #d4ebff;}#sk-container-id-2 input.sk-hidden--visually {border: 0;clip: rect(1px 1px 1px 1px);clip: rect(1px, 1px, 1px, 1px);height: 1px;margin: -1px;overflow: hidden;padding: 0;position: absolute;width: 1px;}#sk-container-id-2 div.sk-estimator {font-family: monospace;background-color: #f0f8ff;border: 1px dotted black;border-radius: 0.25em;box-sizing: border-box;margin-bottom: 0.5em;}#sk-container-id-2 div.sk-estimator:hover {background-color: #d4ebff;}#sk-container-id-2 div.sk-parallel-item::after {content: \"\";width: 100%;border-bottom: 1px solid gray;flex-grow: 1;}#sk-container-id-2 div.sk-label:hover label.sk-toggleable__label {background-color: #d4ebff;}#sk-container-id-2 div.sk-serial::before {content: \"\";position: absolute;border-left: 1px solid gray;box-sizing: border-box;top: 0;bottom: 0;left: 50%;z-index: 0;}#sk-container-id-2 div.sk-serial {display: flex;flex-direction: column;align-items: center;background-color: white;padding-right: 0.2em;padding-left: 0.2em;position: relative;}#sk-container-id-2 div.sk-item {position: relative;z-index: 1;}#sk-container-id-2 div.sk-parallel {display: flex;align-items: stretch;justify-content: center;background-color: white;position: relative;}#sk-container-id-2 div.sk-item::before, #sk-container-id-2 div.sk-parallel-item::before {content: \"\";position: absolute;border-left: 1px solid gray;box-sizing: border-box;top: 0;bottom: 0;left: 50%;z-index: -1;}#sk-container-id-2 div.sk-parallel-item {display: flex;flex-direction: column;z-index: 1;position: relative;background-color: white;}#sk-container-id-2 div.sk-parallel-item:first-child::after {align-self: flex-end;width: 50%;}#sk-container-id-2 div.sk-parallel-item:last-child::after {align-self: flex-start;width: 50%;}#sk-container-id-2 div.sk-parallel-item:only-child::after {width: 0;}#sk-container-id-2 div.sk-dashed-wrapped {border: 1px dashed gray;margin: 0 0.4em 0.5em 0.4em;box-sizing: border-box;padding-bottom: 0.4em;background-color: white;}#sk-container-id-2 div.sk-label label {font-family: monospace;font-weight: bold;display: inline-block;line-height: 1.2em;}#sk-container-id-2 div.sk-label-container {text-align: center;}#sk-container-id-2 div.sk-container {/* jupyter's `normalize.less` sets `[hidden] { display: none; }` but bootstrap.min.css set `[hidden] { display: none !important; }` so we also need the `!important` here to be able to override the default hidden behavior on the sphinx rendered scikit-learn.org. See: https://github.com/scikit-learn/scikit-learn/issues/21755 */display: inline-block !important;position: relative;}#sk-container-id-2 div.sk-text-repr-fallback {display: none;}</style><div id=\"sk-container-id-2\" class=\"sk-top-container\"><div class=\"sk-text-repr-fallback\"><pre>MLPClassifier(activation=&#x27;identity&#x27;, hidden_layer_sizes=100)</pre><b>In a Jupyter environment, please rerun this cell to show the HTML representation or trust the notebook. <br />On GitHub, the HTML representation is unable to render, please try loading this page with nbviewer.org.</b></div><div class=\"sk-container\" hidden><div class=\"sk-item\"><div class=\"sk-estimator sk-toggleable\"><input class=\"sk-toggleable__control sk-hidden--visually\" id=\"sk-estimator-id-2\" type=\"checkbox\" checked><label for=\"sk-estimator-id-2\" class=\"sk-toggleable__label sk-toggleable__label-arrow\">MLPClassifier</label><div class=\"sk-toggleable__content\"><pre>MLPClassifier(activation=&#x27;identity&#x27;, hidden_layer_sizes=100)</pre></div></div></div></div></div>"
      ],
      "text/plain": [
       "MLPClassifier(activation='identity', hidden_layer_sizes=100)"
      ]
     },
     "execution_count": 51,
     "metadata": {},
     "output_type": "execute_result"
    }
   ],
   "source": [
    "mlp_model.fit(X_Train, Y_Train)"
   ]
  },
  {
   "cell_type": "code",
   "execution_count": 52,
   "id": "cfe78d8a",
   "metadata": {},
   "outputs": [],
   "source": [
    "y_predict = mlp_model.predict(X_Test)"
   ]
  },
  {
   "cell_type": "code",
   "execution_count": 53,
   "id": "fd5dcd66",
   "metadata": {},
   "outputs": [],
   "source": [
    "M = confusion_matrix(Y_Test, y_predict)"
   ]
  },
  {
   "cell_type": "code",
   "execution_count": 54,
   "id": "413c0ae9",
   "metadata": {},
   "outputs": [
    {
     "name": "stdout",
     "output_type": "stream",
     "text": [
      "Model accucary on train data: 98.73 %\n"
     ]
    }
   ],
   "source": [
    "mlp_model_accuracy_Train = round(mlp_model.score(X_Train, Y_Train)*100,2)\n",
    "print('Model accucary on train data:', round(mlp_model_accuracy_Train, 2) , '%')"
   ]
  },
  {
   "cell_type": "code",
   "execution_count": 55,
   "id": "fa8dd9b4",
   "metadata": {},
   "outputs": [
    {
     "name": "stdout",
     "output_type": "stream",
     "text": [
      "Model accucary on test data: 97.59 %\n"
     ]
    }
   ],
   "source": [
    "mlp_model_accuracy_test = round(mlp_model.score(X_Test, Y_Test)*100,2)\n",
    "print('Model accucary on test data:', round(mlp_model_accuracy_test, 2) , '%')"
   ]
  },
  {
   "cell_type": "markdown",
   "id": "1d2e1f27",
   "metadata": {},
   "source": [
    "### How do you make sure that your model is not overfitting the data?\n",
    "\n",
    "Cross validation result is approximately same as trained model. Therefore, the model is not overfitting to the dataset. "
   ]
  },
  {
   "cell_type": "code",
   "execution_count": 56,
   "id": "c01d807c",
   "metadata": {},
   "outputs": [],
   "source": [
    "scores = cross_val_score(mlp_model, X_Train, Y_Train, scoring='accuracy', cv=10, n_jobs=-1)"
   ]
  },
  {
   "cell_type": "code",
   "execution_count": 57,
   "id": "46138b88",
   "metadata": {},
   "outputs": [
    {
     "name": "stdout",
     "output_type": "stream",
     "text": [
      "Accuracy: 98.389 (1.559)\n"
     ]
    },
    {
     "data": {
      "text/plain": [
       "array([1.        , 0.95402299, 0.96551724, 1.        , 1.        ,\n",
       "       0.98850575, 0.98850575, 0.98850575, 0.96551724, 0.98837209])"
      ]
     },
     "execution_count": 57,
     "metadata": {},
     "output_type": "execute_result"
    }
   ],
   "source": [
    "print('Accuracy: %.3f (%.3f)' % (mean(scores)*100, std(scores)*100))\n",
    "scores"
   ]
  },
  {
   "cell_type": "markdown",
   "id": "62dd7873",
   "metadata": {},
   "source": [
    "### Plot the learning curve. What can you conclude from this plot?\n",
    "\n",
    "Training and Test loss that decreases to a point of stability with a minimal gap between the two final loss values."
   ]
  },
  {
   "cell_type": "code",
   "execution_count": 58,
   "id": "b0612a0c",
   "metadata": {},
   "outputs": [
    {
     "data": {
      "text/plain": [
       "([0.9302325581395349,\n",
       "  0.930635838150289,\n",
       "  0.9730769230769231,\n",
       "  0.9798270893371758,\n",
       "  0.9815668202764977,\n",
       "  0.9846449136276392,\n",
       "  0.9851973684210527,\n",
       "  0.9913669064748202,\n",
       "  0.9872122762148338,\n",
       "  0.9884925201380897],\n",
       " [0.7908847184986595,\n",
       "  0.8471849865951743,\n",
       "  0.9276139410187667,\n",
       "  0.9517426273458445,\n",
       "  0.9544235924932976,\n",
       "  0.9731903485254692,\n",
       "  0.9571045576407506,\n",
       "  0.9731903485254692,\n",
       "  0.9758713136729222,\n",
       "  0.9758713136729222])"
      ]
     },
     "execution_count": 58,
     "metadata": {},
     "output_type": "execute_result"
    },
    {
     "data": {
      "image/png": "[encoded data removed]",
      "text/plain": [
       "<Figure size 640x480 with 1 Axes>"
      ]
     },
     "metadata": {},
     "output_type": "display_data"
    }
   ],
   "source": [
    "plot_learning_curves(X_Train, Y_Train, X_Test, Y_Test, mlp_model, scoring='accuracy')"
   ]
  },
  {
   "cell_type": "markdown",
   "id": "de2ab421",
   "metadata": {},
   "source": [
    "### Analyze and discuss model performance.\n",
    "\n",
    "A multilayer perceptron (MLP) (feedforward artificial neural network) performace well on all datasets (training, validation, and test). It gives 97.59% accuracy for the test data. "
   ]
  },
  {
   "cell_type": "markdown",
   "id": "914f9854",
   "metadata": {},
   "source": [
    "### A box plot to visualize your comparison."
   ]
  },
  {
   "cell_type": "code",
   "execution_count": 59,
   "id": "4a339ae8",
   "metadata": {},
   "outputs": [
    {
     "data": {
      "image/png": "[encoded data removed]",
      "text/plain": [
       "<Figure size 1080x504 with 1 Axes>"
      ]
     },
     "metadata": {
      "needs_background": "light"
     },
     "output_type": "display_data"
    }
   ],
   "source": [
    "plt.figure(figsize=(15,7))\n",
    "plt.boxplot([LR_scores, scores], labels=['Logistic_regression', 'MLP'], showmeans=True)\n",
    "plt.show()"
   ]
  },
  {
   "cell_type": "markdown",
   "id": "c811711e",
   "metadata": {},
   "source": [
    "### Compare the model to your baseline model with a statistical significance test.\n",
    "\n",
    "Significance threshold of 0.05 to reject the null hypothesis that both approaches perform equally well on the dataset when we conduct the 5x2 cv _t test."
   ]
  },
  {
   "cell_type": "code",
   "execution_count": 60,
   "id": "c8f6a312",
   "metadata": {},
   "outputs": [],
   "source": [
    "from mlxtend.evaluate import paired_ttest_5x2cv"
   ]
  },
  {
   "cell_type": "code",
   "execution_count": 61,
   "id": "aeedc39b",
   "metadata": {},
   "outputs": [],
   "source": [
    "#https://www.srose.biz/wp-content/uploads/2020/08/Comparing-Machine-Learning-Algorithms.html\n",
    "\n",
    "t, p = paired_ttest_5x2cv(estimator1=logisticRegr, \n",
    "                          estimator2=mlp_model, \n",
    "                          X= X_Train, \n",
    "                          y= Y_Train, \n",
    "                          scoring='accuracy', \n",
    "                          random_seed=1)"
   ]
  },
  {
   "cell_type": "code",
   "execution_count": 62,
   "id": "4034e169",
   "metadata": {},
   "outputs": [
    {
     "name": "stdout",
     "output_type": "stream",
     "text": [
      "P-value:  0.8100922049350913\n",
      "t-statistics:  0.2533401773724078\n"
     ]
    }
   ],
   "source": [
    "print('P-value: ', p)\n",
    "print('t-statistics: ', t)"
   ]
  },
  {
   "cell_type": "markdown",
   "id": "84426682",
   "metadata": {},
   "source": [
    "From above results, we cannot reject the null-hypothesis that both models perform equally well on this dataset. We may conclude that the two algorithms are significantly same."
   ]
  },
  {
   "cell_type": "markdown",
   "id": "3e74d716",
   "metadata": {},
   "source": [
    "### Reference:\n",
    "\n",
    "[1] https://scikit-learn.org/stable/modules/generated/sklearn.neural_network.MLPClassifier.html\n",
    "\n",
    "[2] https://www.kaggle.com/code/pierpaolo28/pima-indians-diabetes-database/notebook\n",
    "[3] https://scikit-learn.org/stable/modules/generated/sklearn.linear_model.LogisticRegression.html\n",
    "[4] https://towardsdatascience.com/a-deep-dive-into-curve-fitting-for-ml-7aeef64755d2"
   ]
  },
  {
   "cell_type": "code",
   "execution_count": null,
   "id": "81a38126",
   "metadata": {},
   "outputs": [],
   "source": []
  }
 ],
 "metadata": {
  "kernelspec": {
   "display_name": "Python 3 (ipykernel)",
   "language": "python",
   "name": "python3"
  },
  "language_info": {
   "codemirror_mode": {
    "name": "ipython",
    "version": 3
   },
   "file_extension": ".py",
   "mimetype": "text/x-python",
   "name": "python",
   "nbconvert_exporter": "python",
   "pygments_lexer": "ipython3",
   "version": "3.10.1"
  }
 },
 "nbformat": 4,
 "nbformat_minor": 5
}
